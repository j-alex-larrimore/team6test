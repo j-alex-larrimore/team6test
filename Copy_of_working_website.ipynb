{
  "nbformat": 4,
  "nbformat_minor": 0,
  "metadata": {
    "colab": {
      "provenance": [],
      "collapsed_sections": []
    },
    "kernelspec": {
      "name": "python3",
      "display_name": "Python 3"
    },
    "language_info": {
      "name": "python"
    },
    "widgets": {
      "application/vnd.jupyter.widget-state+json": {
        "60bd3aba01da44e1b2970fbc1d14a79d": {
          "model_module": "@jupyter-widgets/controls",
          "model_name": "VBoxModel",
          "model_module_version": "1.5.0",
          "state": {
            "_dom_classes": [],
            "_model_module": "@jupyter-widgets/controls",
            "_model_module_version": "1.5.0",
            "_model_name": "VBoxModel",
            "_view_count": null,
            "_view_module": "@jupyter-widgets/controls",
            "_view_module_version": "1.5.0",
            "_view_name": "VBoxView",
            "box_style": "",
            "children": [
              "IPY_MODEL_f589fbe29e4440e89e1267648d761c06",
              "IPY_MODEL_6de8148783e641b8b31af8e89193b21b",
              "IPY_MODEL_43f48466e3f241fda0340bde745c116e",
              "IPY_MODEL_e93db9fc1d1b4f21bf5ad55891385e75",
              "IPY_MODEL_b038fafa1ee04b18bf8d3b506852a216",
              "IPY_MODEL_0ca5605d54b0456abf27f959db968bdf",
              "IPY_MODEL_b06371014e6945c3aa3930343ce330db"
            ],
            "layout": "IPY_MODEL_4e2fb9dbcda54e50992bbe3fc067b950"
          }
        },
        "f589fbe29e4440e89e1267648d761c06": {
          "model_module": "@jupyter-widgets/controls",
          "model_name": "LabelModel",
          "model_module_version": "1.5.0",
          "state": {
            "_dom_classes": [],
            "_model_module": "@jupyter-widgets/controls",
            "_model_module_version": "1.5.0",
            "_model_name": "LabelModel",
            "_view_count": null,
            "_view_module": "@jupyter-widgets/controls",
            "_view_module_version": "1.5.0",
            "_view_name": "LabelView",
            "description": "",
            "description_tooltip": null,
            "layout": "IPY_MODEL_4bc7aa47a22c4f4f925c0ba08866df98",
            "placeholder": "​",
            "style": "IPY_MODEL_0c62d14ffe164e5caf8098d6cc915b50",
            "value": "Upload a photo of either a sea lion or a seal!"
          }
        },
        "6de8148783e641b8b31af8e89193b21b": {
          "model_module": "@jupyter-widgets/controls",
          "model_name": "FileUploadModel",
          "model_module_version": "1.5.0",
          "state": {
            "_counter": 5,
            "_dom_classes": [],
            "_model_module": "@jupyter-widgets/controls",
            "_model_module_version": "1.5.0",
            "_model_name": "FileUploadModel",
            "_view_count": null,
            "_view_module": "@jupyter-widgets/controls",
            "_view_module_version": "1.5.0",
            "_view_name": "FileUploadView",
            "accept": "",
            "button_style": "",
            "data": [
              null
            ],
            "description": "Upload",
            "description_tooltip": null,
            "disabled": false,
            "error": "",
            "icon": "upload",
            "layout": "IPY_MODEL_6084fe2e19f94921bbd05277342dee15",
            "metadata": [
              {
                "name": "images.jpg",
                "type": "image/jpeg",
                "size": 8122,
                "lastModified": 1668027480861
              }
            ],
            "multiple": false,
            "style": "IPY_MODEL_974f41d065ae43e2b5e55d364066de8c"
          }
        },
        "43f48466e3f241fda0340bde745c116e": {
          "model_module": "@jupyter-widgets/controls",
          "model_name": "ButtonModel",
          "model_module_version": "1.5.0",
          "state": {
            "_dom_classes": [],
            "_model_module": "@jupyter-widgets/controls",
            "_model_module_version": "1.5.0",
            "_model_name": "ButtonModel",
            "_view_count": null,
            "_view_module": "@jupyter-widgets/controls",
            "_view_module_version": "1.5.0",
            "_view_name": "ButtonView",
            "button_style": "",
            "description": "Classify",
            "disabled": false,
            "icon": "",
            "layout": "IPY_MODEL_76436af1bbe9477bbae9d4cdaf2c748e",
            "style": "IPY_MODEL_c9af6a00f537485c955b215b72229dc1",
            "tooltip": ""
          }
        },
        "e93db9fc1d1b4f21bf5ad55891385e75": {
          "model_module": "@jupyter-widgets/output",
          "model_name": "OutputModel",
          "model_module_version": "1.0.0",
          "state": {
            "_dom_classes": [],
            "_model_module": "@jupyter-widgets/output",
            "_model_module_version": "1.0.0",
            "_model_name": "OutputModel",
            "_view_count": null,
            "_view_module": "@jupyter-widgets/output",
            "_view_module_version": "1.0.0",
            "_view_name": "OutputView",
            "layout": "IPY_MODEL_1ff964d66d5d4f929e98de4bc6e4a4bb",
            "msg_id": "",
            "outputs": [
              {
                "output_type": "display_data",
                "data": {
                  "text/plain": "<PIL.Image.Image image mode=RGB size=128x85>",
                  "image/png": "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\n"
                },
                "metadata": {}
              }
            ]
          }
        },
        "b038fafa1ee04b18bf8d3b506852a216": {
          "model_module": "@jupyter-widgets/controls",
          "model_name": "LabelModel",
          "model_module_version": "1.5.0",
          "state": {
            "_dom_classes": [],
            "_model_module": "@jupyter-widgets/controls",
            "_model_module_version": "1.5.0",
            "_model_name": "LabelModel",
            "_view_count": null,
            "_view_module": "@jupyter-widgets/controls",
            "_view_module_version": "1.5.0",
            "_view_name": "LabelView",
            "description": "",
            "description_tooltip": null,
            "layout": "IPY_MODEL_d929dc5dd96646998dde69e3b786adaf",
            "placeholder": "​",
            "style": "IPY_MODEL_c476dbe46e8d461d8731cfee7e4a163f",
            "value": "Prediction: Elephant seal; Probability: 0.0184"
          }
        },
        "0ca5605d54b0456abf27f959db968bdf": {
          "model_module": "@jupyter-widgets/controls",
          "model_name": "LabelModel",
          "model_module_version": "1.5.0",
          "state": {
            "_dom_classes": [],
            "_model_module": "@jupyter-widgets/controls",
            "_model_module_version": "1.5.0",
            "_model_name": "LabelModel",
            "_view_count": null,
            "_view_module": "@jupyter-widgets/controls",
            "_view_module_version": "1.5.0",
            "_view_name": "LabelView",
            "description": "",
            "description_tooltip": null,
            "layout": "IPY_MODEL_b08bad3fd67049fd9cd3a9635bff328b",
            "placeholder": "​",
            "style": "IPY_MODEL_72afc70c984c4527960db1671ba7b2b4",
            "value": "Prediction: Harbor seal; Probability: 0.0020"
          }
        },
        "b06371014e6945c3aa3930343ce330db": {
          "model_module": "@jupyter-widgets/controls",
          "model_name": "LabelModel",
          "model_module_version": "1.5.0",
          "state": {
            "_dom_classes": [],
            "_model_module": "@jupyter-widgets/controls",
            "_model_module_version": "1.5.0",
            "_model_name": "LabelModel",
            "_view_count": null,
            "_view_module": "@jupyter-widgets/controls",
            "_view_module_version": "1.5.0",
            "_view_name": "LabelView",
            "description": "",
            "description_tooltip": null,
            "layout": "IPY_MODEL_75ecb5cb090745d1b515e1118e3c04d9",
            "placeholder": "​",
            "style": "IPY_MODEL_73e92b742d404a248e728b46ffd62218",
            "value": ""
          }
        },
        "4e2fb9dbcda54e50992bbe3fc067b950": {
          "model_module": "@jupyter-widgets/base",
          "model_name": "LayoutModel",
          "model_module_version": "1.2.0",
          "state": {
            "_model_module": "@jupyter-widgets/base",
            "_model_module_version": "1.2.0",
            "_model_name": "LayoutModel",
            "_view_count": null,
            "_view_module": "@jupyter-widgets/base",
            "_view_module_version": "1.2.0",
            "_view_name": "LayoutView",
            "align_content": null,
            "align_items": null,
            "align_self": null,
            "border": null,
            "bottom": null,
            "display": null,
            "flex": null,
            "flex_flow": null,
            "grid_area": null,
            "grid_auto_columns": null,
            "grid_auto_flow": null,
            "grid_auto_rows": null,
            "grid_column": null,
            "grid_gap": null,
            "grid_row": null,
            "grid_template_areas": null,
            "grid_template_columns": null,
            "grid_template_rows": null,
            "height": null,
            "justify_content": null,
            "justify_items": null,
            "left": null,
            "margin": null,
            "max_height": null,
            "max_width": null,
            "min_height": null,
            "min_width": null,
            "object_fit": null,
            "object_position": null,
            "order": null,
            "overflow": null,
            "overflow_x": null,
            "overflow_y": null,
            "padding": null,
            "right": null,
            "top": null,
            "visibility": null,
            "width": null
          }
        },
        "4bc7aa47a22c4f4f925c0ba08866df98": {
          "model_module": "@jupyter-widgets/base",
          "model_name": "LayoutModel",
          "model_module_version": "1.2.0",
          "state": {
            "_model_module": "@jupyter-widgets/base",
            "_model_module_version": "1.2.0",
            "_model_name": "LayoutModel",
            "_view_count": null,
            "_view_module": "@jupyter-widgets/base",
            "_view_module_version": "1.2.0",
            "_view_name": "LayoutView",
            "align_content": null,
            "align_items": null,
            "align_self": null,
            "border": null,
            "bottom": null,
            "display": null,
            "flex": null,
            "flex_flow": null,
            "grid_area": null,
            "grid_auto_columns": null,
            "grid_auto_flow": null,
            "grid_auto_rows": null,
            "grid_column": null,
            "grid_gap": null,
            "grid_row": null,
            "grid_template_areas": null,
            "grid_template_columns": null,
            "grid_template_rows": null,
            "height": null,
            "justify_content": null,
            "justify_items": null,
            "left": null,
            "margin": null,
            "max_height": null,
            "max_width": null,
            "min_height": null,
            "min_width": null,
            "object_fit": null,
            "object_position": null,
            "order": null,
            "overflow": null,
            "overflow_x": null,
            "overflow_y": null,
            "padding": null,
            "right": null,
            "top": null,
            "visibility": null,
            "width": null
          }
        },
        "0c62d14ffe164e5caf8098d6cc915b50": {
          "model_module": "@jupyter-widgets/controls",
          "model_name": "DescriptionStyleModel",
          "model_module_version": "1.5.0",
          "state": {
            "_model_module": "@jupyter-widgets/controls",
            "_model_module_version": "1.5.0",
            "_model_name": "DescriptionStyleModel",
            "_view_count": null,
            "_view_module": "@jupyter-widgets/base",
            "_view_module_version": "1.2.0",
            "_view_name": "StyleView",
            "description_width": ""
          }
        },
        "6084fe2e19f94921bbd05277342dee15": {
          "model_module": "@jupyter-widgets/base",
          "model_name": "LayoutModel",
          "model_module_version": "1.2.0",
          "state": {
            "_model_module": "@jupyter-widgets/base",
            "_model_module_version": "1.2.0",
            "_model_name": "LayoutModel",
            "_view_count": null,
            "_view_module": "@jupyter-widgets/base",
            "_view_module_version": "1.2.0",
            "_view_name": "LayoutView",
            "align_content": null,
            "align_items": null,
            "align_self": null,
            "border": null,
            "bottom": null,
            "display": null,
            "flex": null,
            "flex_flow": null,
            "grid_area": null,
            "grid_auto_columns": null,
            "grid_auto_flow": null,
            "grid_auto_rows": null,
            "grid_column": null,
            "grid_gap": null,
            "grid_row": null,
            "grid_template_areas": null,
            "grid_template_columns": null,
            "grid_template_rows": null,
            "height": null,
            "justify_content": null,
            "justify_items": null,
            "left": null,
            "margin": null,
            "max_height": null,
            "max_width": null,
            "min_height": null,
            "min_width": null,
            "object_fit": null,
            "object_position": null,
            "order": null,
            "overflow": null,
            "overflow_x": null,
            "overflow_y": null,
            "padding": null,
            "right": null,
            "top": null,
            "visibility": null,
            "width": null
          }
        },
        "974f41d065ae43e2b5e55d364066de8c": {
          "model_module": "@jupyter-widgets/controls",
          "model_name": "ButtonStyleModel",
          "model_module_version": "1.5.0",
          "state": {
            "_model_module": "@jupyter-widgets/controls",
            "_model_module_version": "1.5.0",
            "_model_name": "ButtonStyleModel",
            "_view_count": null,
            "_view_module": "@jupyter-widgets/base",
            "_view_module_version": "1.2.0",
            "_view_name": "StyleView",
            "button_color": null,
            "font_weight": ""
          }
        },
        "76436af1bbe9477bbae9d4cdaf2c748e": {
          "model_module": "@jupyter-widgets/base",
          "model_name": "LayoutModel",
          "model_module_version": "1.2.0",
          "state": {
            "_model_module": "@jupyter-widgets/base",
            "_model_module_version": "1.2.0",
            "_model_name": "LayoutModel",
            "_view_count": null,
            "_view_module": "@jupyter-widgets/base",
            "_view_module_version": "1.2.0",
            "_view_name": "LayoutView",
            "align_content": null,
            "align_items": null,
            "align_self": null,
            "border": null,
            "bottom": null,
            "display": null,
            "flex": null,
            "flex_flow": null,
            "grid_area": null,
            "grid_auto_columns": null,
            "grid_auto_flow": null,
            "grid_auto_rows": null,
            "grid_column": null,
            "grid_gap": null,
            "grid_row": null,
            "grid_template_areas": null,
            "grid_template_columns": null,
            "grid_template_rows": null,
            "height": null,
            "justify_content": null,
            "justify_items": null,
            "left": null,
            "margin": null,
            "max_height": null,
            "max_width": null,
            "min_height": null,
            "min_width": null,
            "object_fit": null,
            "object_position": null,
            "order": null,
            "overflow": null,
            "overflow_x": null,
            "overflow_y": null,
            "padding": null,
            "right": null,
            "top": null,
            "visibility": null,
            "width": null
          }
        },
        "c9af6a00f537485c955b215b72229dc1": {
          "model_module": "@jupyter-widgets/controls",
          "model_name": "ButtonStyleModel",
          "model_module_version": "1.5.0",
          "state": {
            "_model_module": "@jupyter-widgets/controls",
            "_model_module_version": "1.5.0",
            "_model_name": "ButtonStyleModel",
            "_view_count": null,
            "_view_module": "@jupyter-widgets/base",
            "_view_module_version": "1.2.0",
            "_view_name": "StyleView",
            "button_color": null,
            "font_weight": ""
          }
        },
        "d929dc5dd96646998dde69e3b786adaf": {
          "model_module": "@jupyter-widgets/base",
          "model_name": "LayoutModel",
          "model_module_version": "1.2.0",
          "state": {
            "_model_module": "@jupyter-widgets/base",
            "_model_module_version": "1.2.0",
            "_model_name": "LayoutModel",
            "_view_count": null,
            "_view_module": "@jupyter-widgets/base",
            "_view_module_version": "1.2.0",
            "_view_name": "LayoutView",
            "align_content": null,
            "align_items": null,
            "align_self": null,
            "border": null,
            "bottom": null,
            "display": null,
            "flex": null,
            "flex_flow": null,
            "grid_area": null,
            "grid_auto_columns": null,
            "grid_auto_flow": null,
            "grid_auto_rows": null,
            "grid_column": null,
            "grid_gap": null,
            "grid_row": null,
            "grid_template_areas": null,
            "grid_template_columns": null,
            "grid_template_rows": null,
            "height": null,
            "justify_content": null,
            "justify_items": null,
            "left": null,
            "margin": null,
            "max_height": null,
            "max_width": null,
            "min_height": null,
            "min_width": null,
            "object_fit": null,
            "object_position": null,
            "order": null,
            "overflow": null,
            "overflow_x": null,
            "overflow_y": null,
            "padding": null,
            "right": null,
            "top": null,
            "visibility": null,
            "width": null
          }
        },
        "c476dbe46e8d461d8731cfee7e4a163f": {
          "model_module": "@jupyter-widgets/controls",
          "model_name": "DescriptionStyleModel",
          "model_module_version": "1.5.0",
          "state": {
            "_model_module": "@jupyter-widgets/controls",
            "_model_module_version": "1.5.0",
            "_model_name": "DescriptionStyleModel",
            "_view_count": null,
            "_view_module": "@jupyter-widgets/base",
            "_view_module_version": "1.2.0",
            "_view_name": "StyleView",
            "description_width": ""
          }
        },
        "b08bad3fd67049fd9cd3a9635bff328b": {
          "model_module": "@jupyter-widgets/base",
          "model_name": "LayoutModel",
          "model_module_version": "1.2.0",
          "state": {
            "_model_module": "@jupyter-widgets/base",
            "_model_module_version": "1.2.0",
            "_model_name": "LayoutModel",
            "_view_count": null,
            "_view_module": "@jupyter-widgets/base",
            "_view_module_version": "1.2.0",
            "_view_name": "LayoutView",
            "align_content": null,
            "align_items": null,
            "align_self": null,
            "border": null,
            "bottom": null,
            "display": null,
            "flex": null,
            "flex_flow": null,
            "grid_area": null,
            "grid_auto_columns": null,
            "grid_auto_flow": null,
            "grid_auto_rows": null,
            "grid_column": null,
            "grid_gap": null,
            "grid_row": null,
            "grid_template_areas": null,
            "grid_template_columns": null,
            "grid_template_rows": null,
            "height": null,
            "justify_content": null,
            "justify_items": null,
            "left": null,
            "margin": null,
            "max_height": null,
            "max_width": null,
            "min_height": null,
            "min_width": null,
            "object_fit": null,
            "object_position": null,
            "order": null,
            "overflow": null,
            "overflow_x": null,
            "overflow_y": null,
            "padding": null,
            "right": null,
            "top": null,
            "visibility": null,
            "width": null
          }
        },
        "72afc70c984c4527960db1671ba7b2b4": {
          "model_module": "@jupyter-widgets/controls",
          "model_name": "DescriptionStyleModel",
          "model_module_version": "1.5.0",
          "state": {
            "_model_module": "@jupyter-widgets/controls",
            "_model_module_version": "1.5.0",
            "_model_name": "DescriptionStyleModel",
            "_view_count": null,
            "_view_module": "@jupyter-widgets/base",
            "_view_module_version": "1.2.0",
            "_view_name": "StyleView",
            "description_width": ""
          }
        },
        "75ecb5cb090745d1b515e1118e3c04d9": {
          "model_module": "@jupyter-widgets/base",
          "model_name": "LayoutModel",
          "model_module_version": "1.2.0",
          "state": {
            "_model_module": "@jupyter-widgets/base",
            "_model_module_version": "1.2.0",
            "_model_name": "LayoutModel",
            "_view_count": null,
            "_view_module": "@jupyter-widgets/base",
            "_view_module_version": "1.2.0",
            "_view_name": "LayoutView",
            "align_content": null,
            "align_items": null,
            "align_self": null,
            "border": null,
            "bottom": null,
            "display": null,
            "flex": null,
            "flex_flow": null,
            "grid_area": null,
            "grid_auto_columns": null,
            "grid_auto_flow": null,
            "grid_auto_rows": null,
            "grid_column": null,
            "grid_gap": null,
            "grid_row": null,
            "grid_template_areas": null,
            "grid_template_columns": null,
            "grid_template_rows": null,
            "height": null,
            "justify_content": null,
            "justify_items": null,
            "left": null,
            "margin": null,
            "max_height": null,
            "max_width": null,
            "min_height": null,
            "min_width": null,
            "object_fit": null,
            "object_position": null,
            "order": null,
            "overflow": null,
            "overflow_x": null,
            "overflow_y": null,
            "padding": null,
            "right": null,
            "top": null,
            "visibility": null,
            "width": null
          }
        },
        "73e92b742d404a248e728b46ffd62218": {
          "model_module": "@jupyter-widgets/controls",
          "model_name": "DescriptionStyleModel",
          "model_module_version": "1.5.0",
          "state": {
            "_model_module": "@jupyter-widgets/controls",
            "_model_module_version": "1.5.0",
            "_model_name": "DescriptionStyleModel",
            "_view_count": null,
            "_view_module": "@jupyter-widgets/base",
            "_view_module_version": "1.2.0",
            "_view_name": "StyleView",
            "description_width": ""
          }
        },
        "1ff964d66d5d4f929e98de4bc6e4a4bb": {
          "model_module": "@jupyter-widgets/base",
          "model_name": "LayoutModel",
          "model_module_version": "1.2.0",
          "state": {
            "_model_module": "@jupyter-widgets/base",
            "_model_module_version": "1.2.0",
            "_model_name": "LayoutModel",
            "_view_count": null,
            "_view_module": "@jupyter-widgets/base",
            "_view_module_version": "1.2.0",
            "_view_name": "LayoutView",
            "align_content": null,
            "align_items": null,
            "align_self": null,
            "border": null,
            "bottom": null,
            "display": null,
            "flex": null,
            "flex_flow": null,
            "grid_area": null,
            "grid_auto_columns": null,
            "grid_auto_flow": null,
            "grid_auto_rows": null,
            "grid_column": null,
            "grid_gap": null,
            "grid_row": null,
            "grid_template_areas": null,
            "grid_template_columns": null,
            "grid_template_rows": null,
            "height": null,
            "justify_content": null,
            "justify_items": null,
            "left": null,
            "margin": null,
            "max_height": null,
            "max_width": null,
            "min_height": null,
            "min_width": null,
            "object_fit": null,
            "object_position": null,
            "order": null,
            "overflow": null,
            "overflow_x": null,
            "overflow_y": null,
            "padding": null,
            "right": null,
            "top": null,
            "visibility": null,
            "width": null
          }
        }
      }
    }
  },
  "cells": [
    {
      "cell_type": "code",
      "source": [
        "!pip install -Uqq fastbook\n",
        "import fastbook\n",
        "fastbook.setup_book()\n",
        "from fastbook import *"
      ],
      "metadata": {
        "id": "Oi8OuffSkMmp"
      },
      "execution_count": null,
      "outputs": []
    },
    {
      "cell_type": "markdown",
      "source": [
        "Classify your image!!!\n",
        "\n",
        "Did you grow up with sea turtles in your area?"
      ],
      "metadata": {
        "id": "lGwMmLEJLKuZ"
      }
    },
    {
      "cell_type": "code",
      "source": [
        "from fastai.vision.all import *\n",
        "from fastai.vision.widgets import *\n"
      ],
      "metadata": {
        "id": "jHJhk49WJZUi"
      },
      "execution_count": null,
      "outputs": []
    },
    {
      "cell_type": "code",
      "source": [
        "learn_inf = load_learner(path/'export.pkl')"
      ],
      "metadata": {
        "id": "MWIQXfQZLKQ7"
      },
      "execution_count": null,
      "outputs": []
    },
    {
      "cell_type": "code",
      "source": [
        "btn_upload = widgets.FileUpload()"
      ],
      "metadata": {
        "id": "h9OwONHMMKTE"
      },
      "execution_count": null,
      "outputs": []
    },
    {
      "cell_type": "code",
      "source": [
        "btn_run = widgets.Button(description='Classify')"
      ],
      "metadata": {
        "id": "qW44mWNAMReC"
      },
      "execution_count": null,
      "outputs": []
    },
    {
      "cell_type": "code",
      "source": [
        "out_pl = widgets.Output()\n",
        "lbl_pred = widgets.Label()\n",
        "hi = [widgets.Label(), widgets.Label(), widgets.Label()]\n"
      ],
      "metadata": {
        "id": "zbBkGi2YMpxO"
      },
      "execution_count": null,
      "outputs": []
    },
    {
      "cell_type": "code",
      "source": [
        "def nameProbDisplay(animal, prob):\n",
        "  return f'Prediction: {animal.replace(\"_\", \" \").capitalize()}; Probability: {prob:.4f}'"
      ],
      "metadata": {
        "id": "DKOJYC4rq18F"
      },
      "execution_count": null,
      "outputs": []
    },
    {
      "cell_type": "code",
      "source": [
        "def on_click_classify(change):\n",
        "    img = PILImage.create(btn_upload.data[-1])\n",
        "    out_pl.clear_output()\n",
        "    with out_pl: display(img.to_thumb(128,128))\n",
        "    pred_class,pred_idx,probabilities = learn_inf.predict(img)\n",
        "    for i in range(len(pred_class)):\n",
        "      hi[i].value = nameProbDisplay(pred_class[i], probabilities[i])\n",
        "\n",
        "btn_run.on_click(on_click_classify)"
      ],
      "metadata": {
        "id": "1XAMEU2dKjJZ"
      },
      "execution_count": null,
      "outputs": []
    },
    {
      "cell_type": "code",
      "source": [
        "ack = [widgets.Label('Upload a photo of either a sea lion or a seal!'), \n",
        "      btn_upload, btn_run, out_pl] + hi\n",
        "VBox([widgets.Label('Upload a photo of either a sea lion or a seal!'), \n",
        "      btn_upload, btn_run, out_pl] + hi)"
      ],
      "metadata": {
        "colab": {
          "base_uri": "https://localhost:8080/",
          "height": 294,
          "referenced_widgets": [
            "60bd3aba01da44e1b2970fbc1d14a79d",
            "f589fbe29e4440e89e1267648d761c06",
            "6de8148783e641b8b31af8e89193b21b",
            "43f48466e3f241fda0340bde745c116e",
            "e93db9fc1d1b4f21bf5ad55891385e75",
            "b038fafa1ee04b18bf8d3b506852a216",
            "0ca5605d54b0456abf27f959db968bdf",
            "b06371014e6945c3aa3930343ce330db",
            "4e2fb9dbcda54e50992bbe3fc067b950",
            "4bc7aa47a22c4f4f925c0ba08866df98",
            "0c62d14ffe164e5caf8098d6cc915b50",
            "6084fe2e19f94921bbd05277342dee15",
            "974f41d065ae43e2b5e55d364066de8c",
            "76436af1bbe9477bbae9d4cdaf2c748e",
            "c9af6a00f537485c955b215b72229dc1",
            "d929dc5dd96646998dde69e3b786adaf",
            "c476dbe46e8d461d8731cfee7e4a163f",
            "b08bad3fd67049fd9cd3a9635bff328b",
            "72afc70c984c4527960db1671ba7b2b4",
            "75ecb5cb090745d1b515e1118e3c04d9",
            "73e92b742d404a248e728b46ffd62218",
            "1ff964d66d5d4f929e98de4bc6e4a4bb"
          ]
        },
        "id": "Dp0tR3ipMx6M",
        "outputId": "5426e472-32d9-41a1-b60e-934731059c5b"
      },
      "execution_count": null,
      "outputs": [
        {
          "output_type": "display_data",
          "data": {
            "text/plain": [
              "VBox(children=(Label(value='Upload a photo of either a sea lion or a seal!'), FileUpload(value={}, description…"
            ],
            "application/vnd.jupyter.widget-view+json": {
              "version_major": 2,
              "version_minor": 0,
              "model_id": "60bd3aba01da44e1b2970fbc1d14a79d"
            }
          },
          "metadata": {}
        },
        {
          "output_type": "display_data",
          "data": {
            "text/plain": [
              "<IPython.core.display.HTML object>"
            ],
            "text/html": [
              "\n",
              "<style>\n",
              "    /* Turns off some styling */\n",
              "    progress {\n",
              "        /* gets rid of default border in Firefox and Opera. */\n",
              "        border: none;\n",
              "        /* Needs to be in here for Safari polyfill so background images work as expected. */\n",
              "        background-size: auto;\n",
              "    }\n",
              "    progress:not([value]), progress:not([value])::-webkit-progress-bar {\n",
              "        background: repeating-linear-gradient(45deg, #7e7e7e, #7e7e7e 10px, #5c5c5c 10px, #5c5c5c 20px);\n",
              "    }\n",
              "    .progress-bar-interrupted, .progress-bar-interrupted::-webkit-progress-bar {\n",
              "        background: #F44336;\n",
              "    }\n",
              "</style>\n"
            ]
          },
          "metadata": {}
        },
        {
          "output_type": "display_data",
          "data": {
            "text/plain": [
              "<IPython.core.display.HTML object>"
            ],
            "text/html": []
          },
          "metadata": {}
        },
        {
          "output_type": "display_data",
          "data": {
            "text/plain": [
              "<IPython.core.display.HTML object>"
            ],
            "text/html": [
              "\n",
              "<style>\n",
              "    /* Turns off some styling */\n",
              "    progress {\n",
              "        /* gets rid of default border in Firefox and Opera. */\n",
              "        border: none;\n",
              "        /* Needs to be in here for Safari polyfill so background images work as expected. */\n",
              "        background-size: auto;\n",
              "    }\n",
              "    progress:not([value]), progress:not([value])::-webkit-progress-bar {\n",
              "        background: repeating-linear-gradient(45deg, #7e7e7e, #7e7e7e 10px, #5c5c5c 10px, #5c5c5c 20px);\n",
              "    }\n",
              "    .progress-bar-interrupted, .progress-bar-interrupted::-webkit-progress-bar {\n",
              "        background: #F44336;\n",
              "    }\n",
              "</style>\n"
            ]
          },
          "metadata": {}
        },
        {
          "output_type": "display_data",
          "data": {
            "text/plain": [
              "<IPython.core.display.HTML object>"
            ],
            "text/html": []
          },
          "metadata": {}
        },
        {
          "output_type": "display_data",
          "data": {
            "text/plain": [
              "<IPython.core.display.HTML object>"
            ],
            "text/html": [
              "\n",
              "<style>\n",
              "    /* Turns off some styling */\n",
              "    progress {\n",
              "        /* gets rid of default border in Firefox and Opera. */\n",
              "        border: none;\n",
              "        /* Needs to be in here for Safari polyfill so background images work as expected. */\n",
              "        background-size: auto;\n",
              "    }\n",
              "    progress:not([value]), progress:not([value])::-webkit-progress-bar {\n",
              "        background: repeating-linear-gradient(45deg, #7e7e7e, #7e7e7e 10px, #5c5c5c 10px, #5c5c5c 20px);\n",
              "    }\n",
              "    .progress-bar-interrupted, .progress-bar-interrupted::-webkit-progress-bar {\n",
              "        background: #F44336;\n",
              "    }\n",
              "</style>\n"
            ]
          },
          "metadata": {}
        },
        {
          "output_type": "display_data",
          "data": {
            "text/plain": [
              "<IPython.core.display.HTML object>"
            ],
            "text/html": []
          },
          "metadata": {}
        },
        {
          "output_type": "display_data",
          "data": {
            "text/plain": [
              "<IPython.core.display.HTML object>"
            ],
            "text/html": [
              "\n",
              "<style>\n",
              "    /* Turns off some styling */\n",
              "    progress {\n",
              "        /* gets rid of default border in Firefox and Opera. */\n",
              "        border: none;\n",
              "        /* Needs to be in here for Safari polyfill so background images work as expected. */\n",
              "        background-size: auto;\n",
              "    }\n",
              "    progress:not([value]), progress:not([value])::-webkit-progress-bar {\n",
              "        background: repeating-linear-gradient(45deg, #7e7e7e, #7e7e7e 10px, #5c5c5c 10px, #5c5c5c 20px);\n",
              "    }\n",
              "    .progress-bar-interrupted, .progress-bar-interrupted::-webkit-progress-bar {\n",
              "        background: #F44336;\n",
              "    }\n",
              "</style>\n"
            ]
          },
          "metadata": {}
        },
        {
          "output_type": "display_data",
          "data": {
            "text/plain": [
              "<IPython.core.display.HTML object>"
            ],
            "text/html": []
          },
          "metadata": {}
        },
        {
          "output_type": "display_data",
          "data": {
            "text/plain": [
              "<IPython.core.display.HTML object>"
            ],
            "text/html": [
              "\n",
              "<style>\n",
              "    /* Turns off some styling */\n",
              "    progress {\n",
              "        /* gets rid of default border in Firefox and Opera. */\n",
              "        border: none;\n",
              "        /* Needs to be in here for Safari polyfill so background images work as expected. */\n",
              "        background-size: auto;\n",
              "    }\n",
              "    progress:not([value]), progress:not([value])::-webkit-progress-bar {\n",
              "        background: repeating-linear-gradient(45deg, #7e7e7e, #7e7e7e 10px, #5c5c5c 10px, #5c5c5c 20px);\n",
              "    }\n",
              "    .progress-bar-interrupted, .progress-bar-interrupted::-webkit-progress-bar {\n",
              "        background: #F44336;\n",
              "    }\n",
              "</style>\n"
            ]
          },
          "metadata": {}
        },
        {
          "output_type": "display_data",
          "data": {
            "text/plain": [
              "<IPython.core.display.HTML object>"
            ],
            "text/html": []
          },
          "metadata": {}
        }
      ]
    }
  ]
}