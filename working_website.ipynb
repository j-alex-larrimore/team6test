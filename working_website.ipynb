{
  "nbformat": 4,
  "nbformat_minor": 0,
  "metadata": {
    "colab": {
      "provenance": [],
      "collapsed_sections": []
    },
    "kernelspec": {
      "name": "python3",
      "display_name": "Python 3"
    },
    "language_info": {
      "name": "python"
    },
    "widgets": {
      "application/vnd.jupyter.widget-state+json": {
        "dfe0c519af88407f901100fdac741aea": {
          "model_module": "@jupyter-widgets/controls",
          "model_name": "VBoxModel",
          "model_module_version": "1.5.0",
          "state": {
            "_dom_classes": [],
            "_model_module": "@jupyter-widgets/controls",
            "_model_module_version": "1.5.0",
            "_model_name": "VBoxModel",
            "_view_count": null,
            "_view_module": "@jupyter-widgets/controls",
            "_view_module_version": "1.5.0",
            "_view_name": "VBoxView",
            "box_style": "",
            "children": [
              "IPY_MODEL_d9644da9349444e48cfa5039b3d4a4ca",
              "IPY_MODEL_6661ff9c640e49109f4676a674724b2a",
              "IPY_MODEL_9afbb0ac681a4a088ae0ce67ee0a15cb",
              "IPY_MODEL_fcb31fe32e9c4ecf96671a7476f5b226",
              "IPY_MODEL_7a336862519042f3b8d76e21334d3e75",
              "IPY_MODEL_55311fd65b0145c886309ee915652794",
              "IPY_MODEL_002ec4925f8b4234bac026f78635db05"
            ],
            "layout": "IPY_MODEL_b645d17f32d8466c97f83e94284abb51"
          }
        },
        "d9644da9349444e48cfa5039b3d4a4ca": {
          "model_module": "@jupyter-widgets/controls",
          "model_name": "LabelModel",
          "model_module_version": "1.5.0",
          "state": {
            "_dom_classes": [],
            "_model_module": "@jupyter-widgets/controls",
            "_model_module_version": "1.5.0",
            "_model_name": "LabelModel",
            "_view_count": null,
            "_view_module": "@jupyter-widgets/controls",
            "_view_module_version": "1.5.0",
            "_view_name": "LabelView",
            "description": "",
            "description_tooltip": null,
            "layout": "IPY_MODEL_4dba5fa71f664f93b2ce346a4c5bbd8b",
            "placeholder": "​",
            "style": "IPY_MODEL_4466bb6bd41f469fad079f0342e78e20",
            "value": "Upload a photo of either a sea lion or a seal!"
          }
        },
        "6661ff9c640e49109f4676a674724b2a": {
          "model_module": "@jupyter-widgets/controls",
          "model_name": "FileUploadModel",
          "model_module_version": "1.5.0",
          "state": {
            "_counter": 1,
            "_dom_classes": [],
            "_model_module": "@jupyter-widgets/controls",
            "_model_module_version": "1.5.0",
            "_model_name": "FileUploadModel",
            "_view_count": null,
            "_view_module": "@jupyter-widgets/controls",
            "_view_module_version": "1.5.0",
            "_view_name": "FileUploadView",
            "accept": "",
            "button_style": "",
            "data": [
              null
            ],
            "description": "Upload",
            "description_tooltip": null,
            "disabled": false,
            "error": "",
            "icon": "upload",
            "layout": "IPY_MODEL_de6148c4cb25498386bb688098f1dd03",
            "metadata": [
              {
                "name": "Screenshot 2022-11-04 132913.png",
                "type": "image/png",
                "size": 330377,
                "lastModified": 1667593756740
              }
            ],
            "multiple": false,
            "style": "IPY_MODEL_9c1ff8d5ba004a94a46fd770dc4491ad"
          }
        },
        "9afbb0ac681a4a088ae0ce67ee0a15cb": {
          "model_module": "@jupyter-widgets/controls",
          "model_name": "ButtonModel",
          "model_module_version": "1.5.0",
          "state": {
            "_dom_classes": [],
            "_model_module": "@jupyter-widgets/controls",
            "_model_module_version": "1.5.0",
            "_model_name": "ButtonModel",
            "_view_count": null,
            "_view_module": "@jupyter-widgets/controls",
            "_view_module_version": "1.5.0",
            "_view_name": "ButtonView",
            "button_style": "",
            "description": "Classify",
            "disabled": false,
            "icon": "",
            "layout": "IPY_MODEL_9df2ba893380479b8a590565ac020996",
            "style": "IPY_MODEL_4ae8ba03f23b42108cd569a0feebbf71",
            "tooltip": ""
          }
        },
        "fcb31fe32e9c4ecf96671a7476f5b226": {
          "model_module": "@jupyter-widgets/output",
          "model_name": "OutputModel",
          "model_module_version": "1.0.0",
          "state": {
            "_dom_classes": [],
            "_model_module": "@jupyter-widgets/output",
            "_model_module_version": "1.0.0",
            "_model_name": "OutputModel",
            "_view_count": null,
            "_view_module": "@jupyter-widgets/output",
            "_view_module_version": "1.0.0",
            "_view_name": "OutputView",
            "layout": "IPY_MODEL_17fd60eca1384a7cb886d357c066c6ab",
            "msg_id": "",
            "outputs": [
              {
                "output_type": "display_data",
                "data": {
                  "text/plain": "<PIL.Image.Image image mode=RGB size=128x27>",
                  "image/png": "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\n"
                },
                "metadata": {}
              }
            ]
          }
        },
        "7a336862519042f3b8d76e21334d3e75": {
          "model_module": "@jupyter-widgets/controls",
          "model_name": "LabelModel",
          "model_module_version": "1.5.0",
          "state": {
            "_dom_classes": [],
            "_model_module": "@jupyter-widgets/controls",
            "_model_module_version": "1.5.0",
            "_model_name": "LabelModel",
            "_view_count": null,
            "_view_module": "@jupyter-widgets/controls",
            "_view_module_version": "1.5.0",
            "_view_name": "LabelView",
            "description": "",
            "description_tooltip": null,
            "layout": "IPY_MODEL_435639a773bb4cb2b1ccc6243bb5dd51",
            "placeholder": "​",
            "style": "IPY_MODEL_3b03a0ad416547d194ebe20d29a6ed8c",
            "value": "Prediction: Hawaiian monk seal; Probability: 0.0598"
          }
        },
        "55311fd65b0145c886309ee915652794": {
          "model_module": "@jupyter-widgets/controls",
          "model_name": "LabelModel",
          "model_module_version": "1.5.0",
          "state": {
            "_dom_classes": [],
            "_model_module": "@jupyter-widgets/controls",
            "_model_module_version": "1.5.0",
            "_model_name": "LabelModel",
            "_view_count": null,
            "_view_module": "@jupyter-widgets/controls",
            "_view_module_version": "1.5.0",
            "_view_name": "LabelView",
            "description": "",
            "description_tooltip": null,
            "layout": "IPY_MODEL_55025368a1f942be9d8ff7df951ed1b4",
            "placeholder": "​",
            "style": "IPY_MODEL_0f583374cf6a4c8fa314db0db830179a",
            "value": ""
          }
        },
        "002ec4925f8b4234bac026f78635db05": {
          "model_module": "@jupyter-widgets/controls",
          "model_name": "LabelModel",
          "model_module_version": "1.5.0",
          "state": {
            "_dom_classes": [],
            "_model_module": "@jupyter-widgets/controls",
            "_model_module_version": "1.5.0",
            "_model_name": "LabelModel",
            "_view_count": null,
            "_view_module": "@jupyter-widgets/controls",
            "_view_module_version": "1.5.0",
            "_view_name": "LabelView",
            "description": "",
            "description_tooltip": null,
            "layout": "IPY_MODEL_4dc05e238e2249b5821488b1671e2d06",
            "placeholder": "​",
            "style": "IPY_MODEL_0dbe81cfa5c942c0a8d60ee258a2ad56",
            "value": ""
          }
        },
        "b645d17f32d8466c97f83e94284abb51": {
          "model_module": "@jupyter-widgets/base",
          "model_name": "LayoutModel",
          "model_module_version": "1.2.0",
          "state": {
            "_model_module": "@jupyter-widgets/base",
            "_model_module_version": "1.2.0",
            "_model_name": "LayoutModel",
            "_view_count": null,
            "_view_module": "@jupyter-widgets/base",
            "_view_module_version": "1.2.0",
            "_view_name": "LayoutView",
            "align_content": null,
            "align_items": null,
            "align_self": null,
            "border": null,
            "bottom": null,
            "display": null,
            "flex": null,
            "flex_flow": null,
            "grid_area": null,
            "grid_auto_columns": null,
            "grid_auto_flow": null,
            "grid_auto_rows": null,
            "grid_column": null,
            "grid_gap": null,
            "grid_row": null,
            "grid_template_areas": null,
            "grid_template_columns": null,
            "grid_template_rows": null,
            "height": null,
            "justify_content": null,
            "justify_items": null,
            "left": null,
            "margin": null,
            "max_height": null,
            "max_width": null,
            "min_height": null,
            "min_width": null,
            "object_fit": null,
            "object_position": null,
            "order": null,
            "overflow": null,
            "overflow_x": null,
            "overflow_y": null,
            "padding": null,
            "right": null,
            "top": null,
            "visibility": null,
            "width": null
          }
        },
        "4dba5fa71f664f93b2ce346a4c5bbd8b": {
          "model_module": "@jupyter-widgets/base",
          "model_name": "LayoutModel",
          "model_module_version": "1.2.0",
          "state": {
            "_model_module": "@jupyter-widgets/base",
            "_model_module_version": "1.2.0",
            "_model_name": "LayoutModel",
            "_view_count": null,
            "_view_module": "@jupyter-widgets/base",
            "_view_module_version": "1.2.0",
            "_view_name": "LayoutView",
            "align_content": null,
            "align_items": null,
            "align_self": null,
            "border": null,
            "bottom": null,
            "display": null,
            "flex": null,
            "flex_flow": null,
            "grid_area": null,
            "grid_auto_columns": null,
            "grid_auto_flow": null,
            "grid_auto_rows": null,
            "grid_column": null,
            "grid_gap": null,
            "grid_row": null,
            "grid_template_areas": null,
            "grid_template_columns": null,
            "grid_template_rows": null,
            "height": null,
            "justify_content": null,
            "justify_items": null,
            "left": null,
            "margin": null,
            "max_height": null,
            "max_width": null,
            "min_height": null,
            "min_width": null,
            "object_fit": null,
            "object_position": null,
            "order": null,
            "overflow": null,
            "overflow_x": null,
            "overflow_y": null,
            "padding": null,
            "right": null,
            "top": null,
            "visibility": null,
            "width": null
          }
        },
        "4466bb6bd41f469fad079f0342e78e20": {
          "model_module": "@jupyter-widgets/controls",
          "model_name": "DescriptionStyleModel",
          "model_module_version": "1.5.0",
          "state": {
            "_model_module": "@jupyter-widgets/controls",
            "_model_module_version": "1.5.0",
            "_model_name": "DescriptionStyleModel",
            "_view_count": null,
            "_view_module": "@jupyter-widgets/base",
            "_view_module_version": "1.2.0",
            "_view_name": "StyleView",
            "description_width": ""
          }
        },
        "de6148c4cb25498386bb688098f1dd03": {
          "model_module": "@jupyter-widgets/base",
          "model_name": "LayoutModel",
          "model_module_version": "1.2.0",
          "state": {
            "_model_module": "@jupyter-widgets/base",
            "_model_module_version": "1.2.0",
            "_model_name": "LayoutModel",
            "_view_count": null,
            "_view_module": "@jupyter-widgets/base",
            "_view_module_version": "1.2.0",
            "_view_name": "LayoutView",
            "align_content": null,
            "align_items": null,
            "align_self": null,
            "border": null,
            "bottom": null,
            "display": null,
            "flex": null,
            "flex_flow": null,
            "grid_area": null,
            "grid_auto_columns": null,
            "grid_auto_flow": null,
            "grid_auto_rows": null,
            "grid_column": null,
            "grid_gap": null,
            "grid_row": null,
            "grid_template_areas": null,
            "grid_template_columns": null,
            "grid_template_rows": null,
            "height": null,
            "justify_content": null,
            "justify_items": null,
            "left": null,
            "margin": null,
            "max_height": null,
            "max_width": null,
            "min_height": null,
            "min_width": null,
            "object_fit": null,
            "object_position": null,
            "order": null,
            "overflow": null,
            "overflow_x": null,
            "overflow_y": null,
            "padding": null,
            "right": null,
            "top": null,
            "visibility": null,
            "width": null
          }
        },
        "9c1ff8d5ba004a94a46fd770dc4491ad": {
          "model_module": "@jupyter-widgets/controls",
          "model_name": "ButtonStyleModel",
          "model_module_version": "1.5.0",
          "state": {
            "_model_module": "@jupyter-widgets/controls",
            "_model_module_version": "1.5.0",
            "_model_name": "ButtonStyleModel",
            "_view_count": null,
            "_view_module": "@jupyter-widgets/base",
            "_view_module_version": "1.2.0",
            "_view_name": "StyleView",
            "button_color": null,
            "font_weight": ""
          }
        },
        "9df2ba893380479b8a590565ac020996": {
          "model_module": "@jupyter-widgets/base",
          "model_name": "LayoutModel",
          "model_module_version": "1.2.0",
          "state": {
            "_model_module": "@jupyter-widgets/base",
            "_model_module_version": "1.2.0",
            "_model_name": "LayoutModel",
            "_view_count": null,
            "_view_module": "@jupyter-widgets/base",
            "_view_module_version": "1.2.0",
            "_view_name": "LayoutView",
            "align_content": null,
            "align_items": null,
            "align_self": null,
            "border": null,
            "bottom": null,
            "display": null,
            "flex": null,
            "flex_flow": null,
            "grid_area": null,
            "grid_auto_columns": null,
            "grid_auto_flow": null,
            "grid_auto_rows": null,
            "grid_column": null,
            "grid_gap": null,
            "grid_row": null,
            "grid_template_areas": null,
            "grid_template_columns": null,
            "grid_template_rows": null,
            "height": null,
            "justify_content": null,
            "justify_items": null,
            "left": null,
            "margin": null,
            "max_height": null,
            "max_width": null,
            "min_height": null,
            "min_width": null,
            "object_fit": null,
            "object_position": null,
            "order": null,
            "overflow": null,
            "overflow_x": null,
            "overflow_y": null,
            "padding": null,
            "right": null,
            "top": null,
            "visibility": null,
            "width": null
          }
        },
        "4ae8ba03f23b42108cd569a0feebbf71": {
          "model_module": "@jupyter-widgets/controls",
          "model_name": "ButtonStyleModel",
          "model_module_version": "1.5.0",
          "state": {
            "_model_module": "@jupyter-widgets/controls",
            "_model_module_version": "1.5.0",
            "_model_name": "ButtonStyleModel",
            "_view_count": null,
            "_view_module": "@jupyter-widgets/base",
            "_view_module_version": "1.2.0",
            "_view_name": "StyleView",
            "button_color": null,
            "font_weight": ""
          }
        },
        "435639a773bb4cb2b1ccc6243bb5dd51": {
          "model_module": "@jupyter-widgets/base",
          "model_name": "LayoutModel",
          "model_module_version": "1.2.0",
          "state": {
            "_model_module": "@jupyter-widgets/base",
            "_model_module_version": "1.2.0",
            "_model_name": "LayoutModel",
            "_view_count": null,
            "_view_module": "@jupyter-widgets/base",
            "_view_module_version": "1.2.0",
            "_view_name": "LayoutView",
            "align_content": null,
            "align_items": null,
            "align_self": null,
            "border": null,
            "bottom": null,
            "display": null,
            "flex": null,
            "flex_flow": null,
            "grid_area": null,
            "grid_auto_columns": null,
            "grid_auto_flow": null,
            "grid_auto_rows": null,
            "grid_column": null,
            "grid_gap": null,
            "grid_row": null,
            "grid_template_areas": null,
            "grid_template_columns": null,
            "grid_template_rows": null,
            "height": null,
            "justify_content": null,
            "justify_items": null,
            "left": null,
            "margin": null,
            "max_height": null,
            "max_width": null,
            "min_height": null,
            "min_width": null,
            "object_fit": null,
            "object_position": null,
            "order": null,
            "overflow": null,
            "overflow_x": null,
            "overflow_y": null,
            "padding": null,
            "right": null,
            "top": null,
            "visibility": null,
            "width": null
          }
        },
        "3b03a0ad416547d194ebe20d29a6ed8c": {
          "model_module": "@jupyter-widgets/controls",
          "model_name": "DescriptionStyleModel",
          "model_module_version": "1.5.0",
          "state": {
            "_model_module": "@jupyter-widgets/controls",
            "_model_module_version": "1.5.0",
            "_model_name": "DescriptionStyleModel",
            "_view_count": null,
            "_view_module": "@jupyter-widgets/base",
            "_view_module_version": "1.2.0",
            "_view_name": "StyleView",
            "description_width": ""
          }
        },
        "55025368a1f942be9d8ff7df951ed1b4": {
          "model_module": "@jupyter-widgets/base",
          "model_name": "LayoutModel",
          "model_module_version": "1.2.0",
          "state": {
            "_model_module": "@jupyter-widgets/base",
            "_model_module_version": "1.2.0",
            "_model_name": "LayoutModel",
            "_view_count": null,
            "_view_module": "@jupyter-widgets/base",
            "_view_module_version": "1.2.0",
            "_view_name": "LayoutView",
            "align_content": null,
            "align_items": null,
            "align_self": null,
            "border": null,
            "bottom": null,
            "display": null,
            "flex": null,
            "flex_flow": null,
            "grid_area": null,
            "grid_auto_columns": null,
            "grid_auto_flow": null,
            "grid_auto_rows": null,
            "grid_column": null,
            "grid_gap": null,
            "grid_row": null,
            "grid_template_areas": null,
            "grid_template_columns": null,
            "grid_template_rows": null,
            "height": null,
            "justify_content": null,
            "justify_items": null,
            "left": null,
            "margin": null,
            "max_height": null,
            "max_width": null,
            "min_height": null,
            "min_width": null,
            "object_fit": null,
            "object_position": null,
            "order": null,
            "overflow": null,
            "overflow_x": null,
            "overflow_y": null,
            "padding": null,
            "right": null,
            "top": null,
            "visibility": null,
            "width": null
          }
        },
        "0f583374cf6a4c8fa314db0db830179a": {
          "model_module": "@jupyter-widgets/controls",
          "model_name": "DescriptionStyleModel",
          "model_module_version": "1.5.0",
          "state": {
            "_model_module": "@jupyter-widgets/controls",
            "_model_module_version": "1.5.0",
            "_model_name": "DescriptionStyleModel",
            "_view_count": null,
            "_view_module": "@jupyter-widgets/base",
            "_view_module_version": "1.2.0",
            "_view_name": "StyleView",
            "description_width": ""
          }
        },
        "4dc05e238e2249b5821488b1671e2d06": {
          "model_module": "@jupyter-widgets/base",
          "model_name": "LayoutModel",
          "model_module_version": "1.2.0",
          "state": {
            "_model_module": "@jupyter-widgets/base",
            "_model_module_version": "1.2.0",
            "_model_name": "LayoutModel",
            "_view_count": null,
            "_view_module": "@jupyter-widgets/base",
            "_view_module_version": "1.2.0",
            "_view_name": "LayoutView",
            "align_content": null,
            "align_items": null,
            "align_self": null,
            "border": null,
            "bottom": null,
            "display": null,
            "flex": null,
            "flex_flow": null,
            "grid_area": null,
            "grid_auto_columns": null,
            "grid_auto_flow": null,
            "grid_auto_rows": null,
            "grid_column": null,
            "grid_gap": null,
            "grid_row": null,
            "grid_template_areas": null,
            "grid_template_columns": null,
            "grid_template_rows": null,
            "height": null,
            "justify_content": null,
            "justify_items": null,
            "left": null,
            "margin": null,
            "max_height": null,
            "max_width": null,
            "min_height": null,
            "min_width": null,
            "object_fit": null,
            "object_position": null,
            "order": null,
            "overflow": null,
            "overflow_x": null,
            "overflow_y": null,
            "padding": null,
            "right": null,
            "top": null,
            "visibility": null,
            "width": null
          }
        },
        "0dbe81cfa5c942c0a8d60ee258a2ad56": {
          "model_module": "@jupyter-widgets/controls",
          "model_name": "DescriptionStyleModel",
          "model_module_version": "1.5.0",
          "state": {
            "_model_module": "@jupyter-widgets/controls",
            "_model_module_version": "1.5.0",
            "_model_name": "DescriptionStyleModel",
            "_view_count": null,
            "_view_module": "@jupyter-widgets/base",
            "_view_module_version": "1.2.0",
            "_view_name": "StyleView",
            "description_width": ""
          }
        },
        "17fd60eca1384a7cb886d357c066c6ab": {
          "model_module": "@jupyter-widgets/base",
          "model_name": "LayoutModel",
          "model_module_version": "1.2.0",
          "state": {
            "_model_module": "@jupyter-widgets/base",
            "_model_module_version": "1.2.0",
            "_model_name": "LayoutModel",
            "_view_count": null,
            "_view_module": "@jupyter-widgets/base",
            "_view_module_version": "1.2.0",
            "_view_name": "LayoutView",
            "align_content": null,
            "align_items": null,
            "align_self": null,
            "border": null,
            "bottom": null,
            "display": null,
            "flex": null,
            "flex_flow": null,
            "grid_area": null,
            "grid_auto_columns": null,
            "grid_auto_flow": null,
            "grid_auto_rows": null,
            "grid_column": null,
            "grid_gap": null,
            "grid_row": null,
            "grid_template_areas": null,
            "grid_template_columns": null,
            "grid_template_rows": null,
            "height": null,
            "justify_content": null,
            "justify_items": null,
            "left": null,
            "margin": null,
            "max_height": null,
            "max_width": null,
            "min_height": null,
            "min_width": null,
            "object_fit": null,
            "object_position": null,
            "order": null,
            "overflow": null,
            "overflow_x": null,
            "overflow_y": null,
            "padding": null,
            "right": null,
            "top": null,
            "visibility": null,
            "width": null
          }
        }
      }
    }
  },
  "cells": [
    {
      "cell_type": "markdown",
      "source": [
        "Classify your image!!!\n",
        "\n",
        "Did you grow up with sea turtles in your area?"
      ],
      "metadata": {
        "id": "lGwMmLEJLKuZ"
      }
    },
    {
      "cell_type": "code",
      "source": [
        "from fastai.vision.all import *\n",
        "from fastai.vision.widgets import *\n"
      ],
      "metadata": {
        "id": "jHJhk49WJZUi"
      },
      "execution_count": null,
      "outputs": []
    },
    {
      "cell_type": "code",
      "source": [
        "learn_inf = load_learner('export.pkl')"
      ],
      "metadata": {
        "id": "MWIQXfQZLKQ7"
      },
      "execution_count": null,
      "outputs": []
    },
    {
      "cell_type": "code",
      "source": [
        "btn_upload = widgets.FileUpload()"
      ],
      "metadata": {
        "id": "h9OwONHMMKTE"
      },
      "execution_count": null,
      "outputs": []
    },
    {
      "cell_type": "code",
      "source": [
        "btn_run = widgets.Button(description='Classify')"
      ],
      "metadata": {
        "id": "qW44mWNAMReC"
      },
      "execution_count": null,
      "outputs": []
    },
    {
      "cell_type": "code",
      "source": [
        "out_pl = widgets.Output()\n",
        "lbl_pred = widgets.Label()\n",
        "hi = [widgets.Label(), widgets.Label(), widgets.Label()]\n"
      ],
      "metadata": {
        "id": "zbBkGi2YMpxO"
      },
      "execution_count": null,
      "outputs": []
    },
    {
      "cell_type": "code",
      "source": [
        "def nameProbDisplay(animal, prob):\n",
        "  return f'Prediction: {animal.replace(\"_\", \" \").capitalize()}; Probability: {prob:.4f}'"
      ],
      "metadata": {
        "id": "DKOJYC4rq18F"
      },
      "execution_count": null,
      "outputs": []
    },
    {
      "cell_type": "code",
      "source": [
        "def on_click_classify(change):\n",
        "    img = PILImage.create(btn_upload.data[-1])\n",
        "    out_pl.clear_output()\n",
        "    with out_pl: display(img.to_thumb(128,128))\n",
        "    pred_class,pred_idx,probabilities = learn_inf.predict(img)\n",
        "    for i in range(len(pred_class)):\n",
        "      hi[i].value = nameProbDisplay(pred_class[i], probabilities[i])\n",
        "\n",
        "btn_run.on_click(on_click_classify)"
      ],
      "metadata": {
        "id": "1XAMEU2dKjJZ"
      },
      "execution_count": null,
      "outputs": []
    },
    {
      "cell_type": "code",
      "source": [
        "ack = [widgets.Label('Upload a photo of either a sea lion or a seal!'), \n",
        "      btn_upload, btn_run, out_pl] + hi\n",
        "VBox([widgets.Label('Upload a photo of either a sea lion or a seal!'), \n",
        "      btn_upload, btn_run, out_pl] + hi)"
      ],
      "metadata": {
        "colab": {
          "base_uri": "https://localhost:8080/",
          "height": 236,
          "referenced_widgets": [
            "dfe0c519af88407f901100fdac741aea",
            "d9644da9349444e48cfa5039b3d4a4ca",
            "6661ff9c640e49109f4676a674724b2a",
            "9afbb0ac681a4a088ae0ce67ee0a15cb",
            "fcb31fe32e9c4ecf96671a7476f5b226",
            "7a336862519042f3b8d76e21334d3e75",
            "55311fd65b0145c886309ee915652794",
            "002ec4925f8b4234bac026f78635db05",
            "b645d17f32d8466c97f83e94284abb51",
            "4dba5fa71f664f93b2ce346a4c5bbd8b",
            "4466bb6bd41f469fad079f0342e78e20",
            "de6148c4cb25498386bb688098f1dd03",
            "9c1ff8d5ba004a94a46fd770dc4491ad",
            "9df2ba893380479b8a590565ac020996",
            "4ae8ba03f23b42108cd569a0feebbf71",
            "435639a773bb4cb2b1ccc6243bb5dd51",
            "3b03a0ad416547d194ebe20d29a6ed8c",
            "55025368a1f942be9d8ff7df951ed1b4",
            "0f583374cf6a4c8fa314db0db830179a",
            "4dc05e238e2249b5821488b1671e2d06",
            "0dbe81cfa5c942c0a8d60ee258a2ad56",
            "17fd60eca1384a7cb886d357c066c6ab"
          ]
        },
        "id": "Dp0tR3ipMx6M",
        "outputId": "4125055d-1de2-4a71-acf1-0ad662a47a56"
      },
      "execution_count": null,
      "outputs": [
        {
          "output_type": "display_data",
          "data": {
            "text/plain": [
              "VBox(children=(Label(value='Upload a photo of either a sea lion or a seal!'), FileUpload(value={}, description…"
            ],
            "application/vnd.jupyter.widget-view+json": {
              "version_major": 2,
              "version_minor": 0,
              "model_id": "dfe0c519af88407f901100fdac741aea"
            }
          },
          "metadata": {}
        },
        {
          "output_type": "display_data",
          "data": {
            "text/plain": [
              "<IPython.core.display.HTML object>"
            ],
            "text/html": [
              "\n",
              "<style>\n",
              "    /* Turns off some styling */\n",
              "    progress {\n",
              "        /* gets rid of default border in Firefox and Opera. */\n",
              "        border: none;\n",
              "        /* Needs to be in here for Safari polyfill so background images work as expected. */\n",
              "        background-size: auto;\n",
              "    }\n",
              "    progress:not([value]), progress:not([value])::-webkit-progress-bar {\n",
              "        background: repeating-linear-gradient(45deg, #7e7e7e, #7e7e7e 10px, #5c5c5c 10px, #5c5c5c 20px);\n",
              "    }\n",
              "    .progress-bar-interrupted, .progress-bar-interrupted::-webkit-progress-bar {\n",
              "        background: #F44336;\n",
              "    }\n",
              "</style>\n"
            ]
          },
          "metadata": {}
        },
        {
          "output_type": "display_data",
          "data": {
            "text/plain": [
              "<IPython.core.display.HTML object>"
            ],
            "text/html": []
          },
          "metadata": {}
        }
      ]
    }
  ]
}