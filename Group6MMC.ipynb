{
  "nbformat": 4,
  "nbformat_minor": 0,
  "metadata": {
    "colab": {
      "provenance": [],
      "authorship_tag": "ABX9TyOxn0nr2yQtsnj3YnpuDOj/",
      "include_colab_link": true
    },
    "kernelspec": {
      "name": "python3",
      "display_name": "Python 3"
    },
    "language_info": {
      "name": "python"
    }
  },
  "cells": [
    {
      "cell_type": "markdown",
      "metadata": {
        "id": "view-in-github",
        "colab_type": "text"
      },
      "source": [
        "<a href=\"https://colab.research.google.com/github/j-alex-larrimore/team6test/blob/main/Group6MMC.ipynb\" target=\"_parent\"><img src=\"https://colab.research.google.com/assets/colab-badge.svg\" alt=\"Open In Colab\"/></a>"
      ]
    },
    {
      "cell_type": "code",
      "source": [
        "from fastai.vision.all import *\n",
        "import ipywidgets as widgets\n",
        "from ipywidgets import VBox"
      ],
      "metadata": {
        "id": "ZKag29_Rk7b8"
      },
      "execution_count": 11,
      "outputs": []
    },
    {
      "cell_type": "code",
      "source": [
        "learn_inf = load_learner('exportbear.pkl')"
      ],
      "metadata": {
        "id": "fc0z0FE_lpwh"
      },
      "execution_count": null,
      "outputs": []
    },
    {
      "cell_type": "code",
      "source": [
        "btn_upload = widgets.FileUpload()"
      ],
      "metadata": {
        "id": "Qow8-C90ls2J"
      },
      "execution_count": 6,
      "outputs": []
    },
    {
      "cell_type": "code",
      "source": [
        "btn_run = widgets.Button(description='Classify')"
      ],
      "metadata": {
        "id": "_2U3pw3Ql6XJ"
      },
      "execution_count": 7,
      "outputs": []
    },
    {
      "cell_type": "code",
      "source": [
        "out_pl = widgets.Output()\n",
        "file_uploaded = widgets.Label()\n",
        "lbl_pred = widgets.Label()"
      ],
      "metadata": {
        "id": "y7YNQVRxl8nl"
      },
      "execution_count": 27,
      "outputs": []
    },
    {
      "cell_type": "code",
      "source": [
        "def on_upload_change(change):\n",
        "    file_uploaded.value = 'uploaded'\n",
        "    img = PILImage.create(btn_upload.data[-1])\n",
        "    with out_pl: display(img.to_thumb(128,128))\n",
        "\n",
        "btn_upload.observe(on_upload_change, names='_counter')"
      ],
      "metadata": {
        "id": "pP1R_BfzMEqh"
      },
      "execution_count": 28,
      "outputs": []
    },
    {
      "cell_type": "code",
      "source": [
        "def on_click_classify(change):\n",
        "    img = PILImage.create(btn_upload.data[-1])\n",
        "    out_pl.clear_output()\n",
        "    with out_pl: display(img.to_thumb(128,128))\n",
        "    pred,pred_idx,probs = learn_inf.predict(img)\n",
        "    lbl_pred.value = f'Prediction: {pred}; Probability: {probs[pred_idx]:.04f}'\n",
        "\n",
        "btn_run.on_click(on_click_classify)"
      ],
      "metadata": {
        "id": "yEI8U8hNmEA1"
      },
      "execution_count": 29,
      "outputs": []
    },
    {
      "cell_type": "markdown",
      "source": [
        "Choose your Picture!"
      ],
      "metadata": {
        "id": "iv27WGPSmHdQ"
      }
    },
    {
      "cell_type": "code",
      "source": [
        "VBox([widgets.Label('Upload a photo of either a sea lion or a seal!'), \n",
        "      btn_upload, btn_run, file_uploaded, out_pl, lbl_pred])"
      ],
      "metadata": {
        "id": "UC364S68OWAu"
      },
      "execution_count": null,
      "outputs": []
    }
  ]
}