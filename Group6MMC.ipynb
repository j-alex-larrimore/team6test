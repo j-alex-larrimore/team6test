{
  "nbformat": 4,
  "nbformat_minor": 0,
  "metadata": {
    "colab": {
      "provenance": [],
      "authorship_tag": "ABX9TyP/NrBHTHtAlugRj/yYLvJf",
      "include_colab_link": true
    },
    "kernelspec": {
      "name": "python3",
      "display_name": "Python 3"
    },
    "language_info": {
      "name": "python"
    }
  },
  "cells": [
    {
      "cell_type": "markdown",
      "metadata": {
        "id": "view-in-github",
        "colab_type": "text"
      },
      "source": [
        "<a href=\"https://colab.research.google.com/github/j-alex-larrimore/team6test/blob/main/Group6MMC.ipynb\" target=\"_parent\"><img src=\"https://colab.research.google.com/assets/colab-badge.svg\" alt=\"Open In Colab\"/></a>"
      ]
    },
    {
      "cell_type": "code",
      "source": [
        "from fastai.vision.all import *\n",
        "from fastai.vision.widgets import *"
      ],
      "metadata": {
        "id": "ZKag29_Rk7b8"
      },
      "execution_count": null,
      "outputs": []
    },
    {
      "cell_type": "code",
      "source": [
        "learn_inf = load_learner('export.pkl')"
      ],
      "metadata": {
        "id": "fc0z0FE_lpwh"
      },
      "execution_count": null,
      "outputs": []
    },
    {
      "cell_type": "code",
      "source": [
        "btn_upload = widgets.FileUpload()"
      ],
      "metadata": {
        "id": "Qow8-C90ls2J"
      },
      "execution_count": null,
      "outputs": []
    },
    {
      "cell_type": "code",
      "source": [
        "btn_run = widgets.Button(description='Classify')"
      ],
      "metadata": {
        "id": "_2U3pw3Ql6XJ"
      },
      "execution_count": null,
      "outputs": []
    },
    {
      "cell_type": "code",
      "source": [
        "out_pl = widgets.Output()\n",
        "lbl_pred = widgets.Label()"
      ],
      "metadata": {
        "id": "y7YNQVRxl8nl"
      },
      "execution_count": null,
      "outputs": []
    },
    {
      "cell_type": "code",
      "source": [
        "#hi = [widgets.Label(), widgets.Label(), widgets.Label()]\n",
        "#def nameProbDisplay(animal, prob):\n",
        "#  return f'Prediction: {animal.replace(\"_\", \" \").capitalize()}; Probability: {prob:.4f}'"
      ],
      "metadata": {
        "id": "3pnfSDu6l_jp"
      },
      "execution_count": null,
      "outputs": []
    },
    {
      "cell_type": "code",
      "source": [
        "def on_click_classify(change):\n",
        "    img = PILImage.create(btn_upload.data[-1])\n",
        "    out_pl.clear_output()\n",
        "    with out_pl: display(img.to_thumb(128,128))\n",
        "    pred_class,pred_idx,probabilities = learn_inf.predict(img)\n",
        "    for i in range(len(pred_class)):\n",
        "      #hi[i].value = nameProbDisplay(pred_class[i], probabilities[i])\n",
        "\n",
        "btn_run.on_click(on_click_classify)"
      ],
      "metadata": {
        "id": "yEI8U8hNmEA1"
      },
      "execution_count": null,
      "outputs": []
    },
    {
      "cell_type": "markdown",
      "source": [
        "Choose your Picture!"
      ],
      "metadata": {
        "id": "iv27WGPSmHdQ"
      }
    },
    {
      "cell_type": "code",
      "source": [
        "#ack = [widgets.Label('Upload a photo of either a sea lion or a seal!'), \n",
        "#      btn_upload, btn_run, out_pl] + hi\n",
        "VBox([widgets.Label('Upload a photo of either a sea lion or a seal!'), \n",
        "      btn_upload, btn_run, out_pl, lbl_pred]])\n",
        "      #btn_upload, btn_run, out_pl] + hi)"
      ],
      "metadata": {
        "id": "56_utmZTmG1z"
      },
      "execution_count": null,
      "outputs": []
    }
  ]
}